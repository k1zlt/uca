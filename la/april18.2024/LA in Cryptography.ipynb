{
 "cells": [
  {
   "cell_type": "markdown",
   "id": "77a0e6a8-71ac-41df-97fa-bef8b2aa0cc0",
   "metadata": {},
   "source": [
    "# Linear Algebra in Cryptography"
   ]
  },
  {
   "cell_type": "markdown",
   "id": "08b89609-9fa4-49b1-8fdf-52eb48ebf681",
   "metadata": {},
   "source": [
    "### Cryptography is the study of the teachniques of writing and decoding messages in code.\n",
    "\n",
    "### Cipher - a procedure that will render a message unintelligible to the recipient. Used to alse recreate teh original text.\n",
    "\n",
    "### Plaintext - the message or information that is being encrypted.\n",
    "\n",
    "### Ciphertext - the message or information that is created after the cipher has been used."
   ]
  },
  {
   "cell_type": "code",
   "execution_count": 1,
   "id": "fafcf6f1-86fc-4e57-80fc-0e90f9a16274",
   "metadata": {},
   "outputs": [],
   "source": [
    "import numpy as np"
   ]
  },
  {
   "cell_type": "code",
   "execution_count": 2,
   "id": "60bfd59c-b34a-4812-bc31-131066a0d771",
   "metadata": {},
   "outputs": [],
   "source": [
    "# Matrix that is used for encrypting and decrypting a message must be invertible.\n",
    "def is_invertible(matrix):\n",
    "    # Check if the matrix is square\n",
    "    if matrix.shape[0] != matrix.shape[1]:\n",
    "        return False\n",
    "\n",
    "    # Try to compute the determinant\n",
    "    try:\n",
    "        np.linalg.inv(matrix)\n",
    "        return True\n",
    "    except np.linalg.LinAlgError:\n",
    "        return False"
   ]
  },
  {
   "cell_type": "code",
   "execution_count": 3,
   "id": "b871fbf6-5458-42f0-9a82-d0e90fc92185",
   "metadata": {},
   "outputs": [
    {
     "name": "stdout",
     "output_type": "stream",
     "text": [
      "True\n"
     ]
    }
   ],
   "source": [
    "matrix = np.array([[-3, -3, -4], [0, 1, 1], [4, 3, 4]])\n",
    "print(is_invertible(matrix))"
   ]
  },
  {
   "cell_type": "markdown",
   "id": "2b982101-4027-4210-9d34-bfc68bd19c80",
   "metadata": {},
   "source": [
    "## Encrypting"
   ]
  },
  {
   "cell_type": "code",
   "execution_count": 4,
   "id": "b25e9c4e-6cae-4998-b06b-b4738209f3c0",
   "metadata": {},
   "outputs": [],
   "source": [
    "# Step 1: Optain an cipher matrix that is invertible\n",
    "cipher_matrix = np.array([[-3, -3, -4], [0, 1, 1], [4, 3, 4]])"
   ]
  },
  {
   "cell_type": "code",
   "execution_count": 5,
   "id": "ab33d67d-68f5-4486-a0e5-da939f7efc2b",
   "metadata": {},
   "outputs": [],
   "source": [
    "# Step 2: Obtain a plaintext that will need to be dectrypted\n",
    "text = \"The quick brown fox jumps over the lazy dog\""
   ]
  },
  {
   "cell_type": "code",
   "execution_count": 6,
   "id": "526eab8f-cf4a-4262-a592-072921ac7478",
   "metadata": {},
   "outputs": [
    {
     "name": "stdout",
     "output_type": "stream",
     "text": [
      "The quick brown fox jumps over the lazy dog\n",
      "[20, 8, 5, 27, 17, 21, 9, 3, 11, 27, 2, 18, 15, 23, 14, 27, 6, 15, 24, 27, 10, 21, 13, 16, 19, 27, 15, 22, 5, 18, 27, 20, 8, 5, 27, 12, 1, 26, 25, 27, 4, 15, 7]\n"
     ]
    }
   ],
   "source": [
    "# Step 3: Replace each letter with its numerical representation and replace space with 27\n",
    "k = []\n",
    "for i in text:\n",
    "    k.append(\"abcdefghijklmnopqrstuvwxyz \".index(i.lower()) + 1)\n",
    "print(text)\n",
    "print(k)"
   ]
  },
  {
   "cell_type": "code",
   "execution_count": 7,
   "id": "110157bd-9274-4a3d-ade2-f270ce609d09",
   "metadata": {},
   "outputs": [
    {
     "data": {
      "text/plain": [
       "[[20, 27, 9, 27, 15, 27, 24, 21, 19, 22, 27, 5, 1, 27, 7],\n",
       " [8, 17, 3, 2, 23, 6, 27, 13, 27, 5, 20, 27, 26, 4, 27],\n",
       " [5, 21, 11, 18, 14, 15, 10, 16, 15, 18, 8, 12, 25, 15, 27]]"
      ]
     },
     "execution_count": 7,
     "metadata": {},
     "output_type": "execute_result"
    }
   ],
   "source": [
    "# Step 4: Separate these values into vectors, so that the number of rows of each vector is equivalent to the number of rows of the cipher matrix.\n",
    "# Values are placed into each vector one at a time, going down a row for each value. Once a vector is filled the next vector is created. If the last\n",
    "# vector does not get filled by the plaintext then the remaining entries will hold the value for a space.\n",
    "plaintext_matrix = [[] for _ in range(len(cipher_matrix))]\n",
    "r = 0\n",
    "for i in k:\n",
    "    plaintext_matrix[r].append(i)\n",
    "    r = (r + 1) % len(cipher_matrix)\n",
    "\n",
    "for i in range(len(cipher_matrix) - 1):\n",
    "    if len(plaintext_matrix[i]) != len(plaintext_matrix[i+1]): plaintext_matrix[i+1].append(27)\n",
    "\n",
    "plaintext_matrix"
   ]
  },
  {
   "cell_type": "code",
   "execution_count": 8,
   "id": "db432a8c-bd9a-46e4-b71c-bf51df914b87",
   "metadata": {},
   "outputs": [
    {
     "data": {
      "text/plain": [
       "array([[-104, -216,  -80, -159, -170, -159, -193, -166, -198, -153, -173,\n",
       "        -144, -181, -153, -210],\n",
       "       [  13,   38,   14,   20,   37,   21,   37,   29,   42,   23,   28,\n",
       "          39,   51,   19,   54],\n",
       "       [ 124,  243,   89,  186,  185,  186,  217,  187,  217,  175,  200,\n",
       "         149,  182,  180,  217]])"
      ]
     },
     "execution_count": 8,
     "metadata": {},
     "output_type": "execute_result"
    }
   ],
   "source": [
    "# Step 5: Multiply cipher matrix and plaintext_matrix to obtain encrypted matrix.\n",
    "encrypted_matrix = np.dot(cipher_matrix, plaintext_matrix)\n",
    "encrypted_matrix"
   ]
  },
  {
   "cell_type": "markdown",
   "id": "8b1e4b25-27e2-4ca9-ad71-39bace3155bc",
   "metadata": {},
   "source": [
    "## Decrypting"
   ]
  },
  {
   "cell_type": "code",
   "execution_count": 9,
   "id": "23ba5fbf-f781-4965-ab11-315411fb7432",
   "metadata": {},
   "outputs": [
    {
     "data": {
      "text/plain": [
       "array([[ 1.,  0.,  1.],\n",
       "       [ 4.,  4.,  3.],\n",
       "       [-4., -3., -3.]])"
      ]
     },
     "execution_count": 9,
     "metadata": {},
     "output_type": "execute_result"
    }
   ],
   "source": [
    "# Step 1: Obtain a reverse of the cipher_matrix\n",
    "cipher_matrix_inverse = np.linalg.inv(cipher_matrix)\n",
    "\n",
    "cipher_matrix_inverse"
   ]
  },
  {
   "cell_type": "code",
   "execution_count": 10,
   "id": "e54782dd-a952-4eb6-958e-80412efdb76c",
   "metadata": {},
   "outputs": [
    {
     "name": "stdout",
     "output_type": "stream",
     "text": [
      "[[20. 27.  9. 27. 15. 27. 24. 21. 19. 22. 27.  5.  1. 27.  7.]\n",
      " [ 8. 17.  3.  2. 23.  6. 27. 13. 27.  5. 20. 27. 26.  4. 27.]\n",
      " [ 5. 21. 11. 18. 14. 15. 10. 16. 15. 18.  8. 12. 25. 15. 27.]]\n"
     ]
    }
   ],
   "source": [
    "# Step 2: Obtain plaintext_matrix by multiplying cipher_matrix_inverse and encrypted_matrix\n",
    "plaintext_matrix = np.dot(cipher_matrix_inverse, encrypted_matrix)\n",
    "print(plaintext_matrix)"
   ]
  },
  {
   "cell_type": "code",
   "execution_count": 11,
   "id": "9b639905-0bf1-4dac-af3c-411033543b4b",
   "metadata": {},
   "outputs": [
    {
     "name": "stdout",
     "output_type": "stream",
     "text": [
      "the quick brown fox jumps over the lazy dog  \n"
     ]
    }
   ],
   "source": [
    "# Step 3: Obtain plaintext by replacing numbers by the letter that they represent and concatinating them back together\n",
    "plaintext_matrix2 = [[None for _ in range(len(plaintext_matrix[0]))] for _ in range(len(plaintext_matrix))]\n",
    "for i in range(len(plaintext_matrix)):\n",
    "    for j in range(len(plaintext_matrix[i])):        \n",
    "        plaintext_matrix2[i][j] = \"abcdefghijklmnopqrstuvwxyz \"[int(plaintext_matrix[i][j])-1]\n",
    "\n",
    "plaintext = \"\"\n",
    "for i in range(len(plaintext_matrix) * len(plaintext_matrix[0])):\n",
    "    plaintext += plaintext_matrix2[i % 3][i // 3]\n",
    "print(plaintext)"
   ]
  }
 ],
 "metadata": {
  "kernelspec": {
   "display_name": "Python 3 (ipykernel)",
   "language": "python",
   "name": "python3"
  },
  "language_info": {
   "codemirror_mode": {
    "name": "ipython",
    "version": 3
   },
   "file_extension": ".py",
   "mimetype": "text/x-python",
   "name": "python",
   "nbconvert_exporter": "python",
   "pygments_lexer": "ipython3",
   "version": "3.10.12"
  }
 },
 "nbformat": 4,
 "nbformat_minor": 5
}
