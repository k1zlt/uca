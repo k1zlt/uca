{
 "cells": [
  {
   "cell_type": "code",
   "execution_count": 1,
   "id": "d51328e0-1046-45c5-a531-ceec9e76ad3f",
   "metadata": {},
   "outputs": [
    {
     "name": "stdout",
     "output_type": "stream",
     "text": [
      "[[10, 10, 10], [10, 10, 10], [10, 10, 10]]\n"
     ]
    }
   ],
   "source": [
    "def add_matrices(matrix1, matrix2):\n",
    "    if len(matrix1) != len(matrix2) or len(matrix1[0]) != len(matrix2[0]):\n",
    "        raise ValueError(\"Matrices must have the same dimensions for addition\")\n",
    "    result_matrix = []\n",
    "\n",
    "    for i in range(len(matrix1)):\n",
    "        result_row = []\n",
    "        for j in range(len(matrix1[0])):\n",
    "            result_row.append(matrix1[i][j] + matrix2[i][j])\n",
    "        result_matrix.append(result_row)\n",
    "    return result_matrix\n",
    "matrix_a = [[1, 2, 3], [4, 5, 6], [7, 8, 9]]\n",
    "matrix_b = [[9, 8, 7], [6, 5, 4], [3, 2, 1]]\n",
    "result = add_matrices(matrix_a, matrix_b)\n",
    "print(result)"
   ]
  },
  {
   "cell_type": "code",
   "execution_count": 2,
   "id": "6f55828c-420f-4884-8ef1-547b2a4ad5df",
   "metadata": {},
   "outputs": [
    {
     "name": "stdout",
     "output_type": "stream",
     "text": [
      "[[-8, -6, -4], [-2, 0, 2], [4, 6, 8]]\n"
     ]
    }
   ],
   "source": [
    "def subtract_matrices(matrix1, matrix2):\n",
    "    if len(matrix1) != len(matrix2) or len(matrix1[0]) != len(matrix2[0]):\n",
    "        raise ValueError(\"Matrices must have the same dimensions for subtraction\")\n",
    "    result_matrix = []\n",
    "\n",
    "    for i in range(len(matrix1)):\n",
    "        result_row = []\n",
    "        for j in range(len(matrix1[0])):\n",
    "            result_row.append(matrix1[i][j] - matrix2[i][j])\n",
    "        result_matrix.append(result_row)\n",
    "    return result_matrix\n",
    "matrix_a = [[1, 2, 3], [4, 5, 6], [7, 8, 9]]\n",
    "matrix_b = [[9, 8, 7], [6, 5, 4], [3, 2, 1]]\n",
    "result = subtract_matrices(matrix_a, matrix_b)\n",
    "print(result)"
   ]
  },
  {
   "cell_type": "code",
   "execution_count": 3,
   "id": "9119ffe9-918f-4e9b-951b-584bdd09bc0b",
   "metadata": {},
   "outputs": [
    {
     "name": "stdout",
     "output_type": "stream",
     "text": [
      "[[30, 24, 18], [84, 69, 54], [138, 114, 90]]\n"
     ]
    }
   ],
   "source": [
    "def multiply_matrices(matrix1, matrix2):\n",
    "    if len(matrix1[0]) != len(matrix2):\n",
    "        raise ValueError(\"Number of columns in the first matrix must be equal to the number of rows in the second matrix for multiplication\")\n",
    "    result_matrix = []\n",
    "    for i in range(len(matrix1)):\n",
    "        result_row = []\n",
    "        for j in range(len(matrix2[0])):\n",
    "            dot_product = sum(matrix1[i][k] * matrix2[k][j] for k in range(len(matrix2)))\n",
    "            result_row.append(dot_product)\n",
    "        result_matrix.append(result_row)\n",
    "    return result_matrix\n",
    "\n",
    "matrix_a = [[1, 2, 3], [4, 5, 6], [7, 8, 9]]\n",
    "matrix_b = [[9, 8, 7], [6, 5, 4], [3, 2, 1]]\n",
    "result = multiply_matrices(matrix_a, matrix_b)\n",
    "print(result)"
   ]
  },
  {
   "cell_type": "code",
   "execution_count": 4,
   "id": "8f294dce-0fda-4ee8-a226-dcde1dd5893e",
   "metadata": {},
   "outputs": [
    {
     "name": "stdout",
     "output_type": "stream",
     "text": [
      "Reduced Row Echelon Form (Matrix 1):\n",
      "[1.0, 0.0, 0.0, 2.0]\n",
      "[0.0, 1.0, 0.0, 3.0]\n",
      "[-0.0, -0.0, 1.0, -1.0]\n",
      "\n",
      "Reduced Row Echelon Form (Matrix 2):\n",
      "[1.0, 0.0, -1.0]\n",
      "[-0.0, 1.0, 2.0]\n",
      "[0.0, 0.0, 0.0]\n",
      "\n",
      "Reduced Row Echelon Form (Matrix 3):\n",
      "[1.0, 0.0, -1.0, -2.0]\n",
      "[-0.0, 1.0, 2.0, 3.0]\n"
     ]
    }
   ],
   "source": [
    "def gaussian_elimination(matrix):\n",
    "    num_rows = len(matrix)\n",
    "    num_cols = len(matrix[0])\n",
    "    pivot_row = 0\n",
    "\n",
    "    for pivot_col in range(num_cols):\n",
    "        while pivot_row < num_rows and matrix[pivot_row][pivot_col] == 0:\n",
    "            pivot_row += 1\n",
    "        if pivot_row == num_rows:\n",
    "            continue\n",
    "        matrix[pivot_row], matrix[pivot_row] = matrix[pivot_row], matrix[pivot_row]\n",
    "        pivot_element = matrix[pivot_row][pivot_col]\n",
    "        matrix[pivot_row] = [entry / pivot_element for entry in matrix[pivot_row]]\n",
    "        for i in range(num_rows):\n",
    "            if i != pivot_row:\n",
    "                factor = matrix[i][pivot_col]\n",
    "                matrix[i] = [entry_i - factor * entry_pivot for entry_i, entry_pivot in zip(matrix[i], matrix[pivot_row])]\n",
    "        pivot_row += 1\n",
    "\n",
    "    return matrix\n",
    "\n",
    "matrix1 = [[2, 1, -1, 8], [-3, -1, 2, -11], [-2, 1, 2, -3]]\n",
    "matrix2 = [[1, 2, 3], [4, 5, 6], [7, 8, 9]]\n",
    "matrix3 = [[1, 2, 3, 4], [5, 6, 7, 8]]\n",
    "\n",
    "result1 = gaussian_elimination(matrix1)\n",
    "result2 = gaussian_elimination(matrix2)\n",
    "result3 = gaussian_elimination(matrix3)\n",
    "\n",
    "print(\"Reduced Row Echelon Form (Matrix 1):\")\n",
    "for row in result1:\n",
    "    print(row)\n",
    "\n",
    "print(\"\\nReduced Row Echelon Form (Matrix 2):\")\n",
    "for row in result2:\n",
    "    print(row)\n",
    "\n",
    "print(\"\\nReduced Row Echelon Form (Matrix 3):\")\n",
    "for row in result3:\n",
    "    print(row)\n"
   ]
  },
  {
   "cell_type": "code",
   "execution_count": 5,
   "id": "8ca68e0d-43c6-43ca-a5a5-586fb827024b",
   "metadata": {},
   "outputs": [
    {
     "name": "stdout",
     "output_type": "stream",
     "text": [
      "Inverse of Matrix 1:\n",
      "[4.0, -1.0]\n",
      "[-7.0, 2.0]\n"
     ]
    }
   ],
   "source": [
    "def is_invertible(matrix):\n",
    "    if len(matrix) != len(matrix[0]):\n",
    "        return False\n",
    "\n",
    "    determinant = 1\n",
    "    for i in range(len(matrix)):\n",
    "        determinant *= matrix[i][i]\n",
    "\n",
    "    return determinant != 0\n",
    "\n",
    "def inverse_matrix(matrix):\n",
    "    if not is_invertible(matrix):\n",
    "        raise ValueError(\"Matrix is not invertible\")\n",
    "    augmented_matrix = [row + [int(row_num == col_num) for col_num in range(len(matrix))] for row_num, row in enumerate(matrix)]\n",
    "    for pivot_col in range(len(matrix)):\n",
    "        pivot_row = pivot_col\n",
    "        while augmented_matrix[pivot_row][pivot_col] == 0:\n",
    "            pivot_row += 1\n",
    "        augmented_matrix[pivot_row], augmented_matrix[pivot_col] = augmented_matrix[pivot_col], augmented_matrix[pivot_row]\n",
    "        pivot_element = augmented_matrix[pivot_col][pivot_col]\n",
    "        augmented_matrix[pivot_col] = [entry / pivot_element for entry in augmented_matrix[pivot_col]]\n",
    "        for i in range(len(matrix)):\n",
    "            if i != pivot_col:\n",
    "                factor = augmented_matrix[i][pivot_col]\n",
    "                augmented_matrix[i] = [entry_i - factor * entry_pivot for entry_i, entry_pivot in zip(augmented_matrix[i], augmented_matrix[pivot_col])]\n",
    "    inverse = [row[len(matrix):] for row in augmented_matrix]\n",
    "\n",
    "    return inverse\n",
    "\n",
    "matrix1 = [[2, 1], [7, 4]]\n",
    "matrix2 = [[1, 2, 3], [0, 1, 4], [5, 6, 0]]\n",
    "\n",
    "if is_invertible(matrix1):\n",
    "    inverse1 = inverse_matrix(matrix1)\n",
    "    print(\"Inverse of Matrix 1:\")\n",
    "    for row in inverse1:\n",
    "        print(row)\n",
    "\n",
    "if is_invertible(matrix2):\n",
    "    inverse2 = inverse_matrix(matrix2)\n",
    "    print(\"\\nInverse of Matrix 2:\")\n",
    "    for row in inverse2:\n",
    "        print(row)"
   ]
  },
  {
   "cell_type": "code",
   "execution_count": 6,
   "id": "b7a4abd7-913b-4f41-a927-7a774d215d9d",
   "metadata": {},
   "outputs": [
    {
     "name": "stdout",
     "output_type": "stream",
     "text": [
      "Solution:\n",
      "x1 = 1.8571428571428572\n",
      "x2 = 1.4285714285714284\n"
     ]
    }
   ],
   "source": [
    "def solve_linear_system(A, b):\n",
    "    A_inverse = inverse_matrix(A)\n",
    "    x = multiply_matrices(A_inverse, b)\n",
    "\n",
    "    return x\n",
    "\n",
    "A = [[2, 3], [4, -1]]\n",
    "b = [[8], [6]]\n",
    "\n",
    "try:\n",
    "    solution = solve_linear_system(A, b)\n",
    "    print(\"Solution:\")\n",
    "    for i, sol in enumerate(solution):\n",
    "        print(f\"x{i+1} =\", sol[0])\n",
    "except ValueError as e:\n",
    "    print(e)\n"
   ]
  }
 ],
 "metadata": {
  "kernelspec": {
   "display_name": "Python 3 (ipykernel)",
   "language": "python",
   "name": "python3"
  },
  "language_info": {
   "codemirror_mode": {
    "name": "ipython",
    "version": 3
   },
   "file_extension": ".py",
   "mimetype": "text/x-python",
   "name": "python",
   "nbconvert_exporter": "python",
   "pygments_lexer": "ipython3",
   "version": "3.10.12"
  }
 },
 "nbformat": 4,
 "nbformat_minor": 5
}
